{
 "cells": [
  {
   "cell_type": "markdown",
   "metadata": {},
   "source": [
    "## Notebook para la descarga y manejo de los datos\n",
    "\n",
    "*********************************************"
   ]
  },
  {
   "cell_type": "code",
   "execution_count": null,
   "metadata": {},
   "outputs": [],
   "source": [
    "import requests\n",
    "import json\n",
    "import time\n",
    "import os"
   ]
  },
  {
   "cell_type": "markdown",
   "metadata": {},
   "source": [
    "*********************************************"
   ]
  },
  {
   "cell_type": "code",
   "execution_count": 5,
   "metadata": {},
   "outputs": [],
   "source": [
    "# NYT API KEY\n",
    "KEY = \"NYT_KEY\"\n",
    "\n",
    "# directories to data\n",
    "URL_DATA = \"data/\"\n",
    "URL_ALL_DATA = \"allData/\"\n",
    "\n",
    "# index of json data\n",
    "DATA = \"data\"\n",
    "\n",
    "MONTHS = [1, 2, 3, 4, 5, 6, 7, 8, 9, 10, 11, 12]\n",
    "YEARS = [1930, 1931, 1932, 1933, 1934, 1935, 1936, 1937, 1938, 1939,\n",
    "         1940, 1941, 1942, 1943, 1944, 1945, 1946, 1947, 1948, 1949,\n",
    "         1950, 1951, 1952, 1953, 1954, 1955, 1956, 1957, 1958, 1959,\n",
    "         1960, 1961, 1962, 1963, 1964, 1965, 1966, 1967, 1968, 1969,\n",
    "         1970, 1971, 1972, 1973, 1974, 1975, 1976, 1977, 1978, 1979,\n",
    "         1980, 1981, 1982, 1983, 1984, 1985, 1986, 1987, 1988, 1989,\n",
    "         1990, 1991, 1992, 1993, 1994, 1995, 1996, 1997, 1998, 1999,\n",
    "         2000, 2001, 2002, 2003, 2004, 2005, 2006, 2007, 2008, 2009,\n",
    "         2010, 2011, 2012, 2013, 2014, 2015, 2016, 2017, 2018, 2019,\n",
    "         2020, 2021, 2022, 2023]\n",
    "\n",
    "\n",
    "# article fields\n",
    "ABSTRACT = \"abstract\"\n",
    "SNIPPET = \"snippet\"\n",
    "LEAD_PARAGRAPH = \"lead_paragraph\"\n",
    "PUB_DATE = \"pub_date\"\n",
    "DOCS = \"docs\"\n",
    "RESPONSE = \"response\""
   ]
  },
  {
   "cell_type": "markdown",
   "metadata": {},
   "source": [
    "*********************************************"
   ]
  },
  {
   "cell_type": "markdown",
   "metadata": {},
   "source": [
    "#### Script para contar el número de artículos"
   ]
  },
  {
   "cell_type": "code",
   "execution_count": null,
   "metadata": {},
   "outputs": [],
   "source": [
    "with open(\"numArchivos.txt\", \"r\") as f:\n",
    "    num = 0\n",
    "    for linea in f:\n",
    "        num += int(linea.split(\" \")[4])\n",
    "\n",
    "print(num)\n",
    "\n",
    "# Hay 10.891.801 de articulos desde 1930 hasta 2023"
   ]
  },
  {
   "cell_type": "markdown",
   "metadata": {},
   "source": [
    "*********************************************"
   ]
  },
  {
   "cell_type": "markdown",
   "metadata": {},
   "source": [
    "#### Función para descargar datos de NYT API a partir del año y el mes"
   ]
  },
  {
   "cell_type": "code",
   "execution_count": null,
   "metadata": {},
   "outputs": [],
   "source": [
    "def downloadData():\n",
    "\n",
    "    for year in YEARS:\n",
    "        for month in MONTHS:\n",
    "\n",
    "            url = f\"https://api.nytimes.com/svc/archive/v1/{year}/{month}.json?api-key={KEY}\"\n",
    "            resp = requests.get(url)\n",
    "\n",
    "            if resp.status_code != 200:\n",
    "                print(\"[ERROR] Codigo de respuesta:\", resp.status_code)\n",
    "                return\n",
    "\n",
    "            json_dict = resp.json()\n",
    "\n",
    "            path = URL_ALL_DATA + str(year) + \"/\" + str(month) + \".json\"\n",
    "\n",
    "            if os.path.isdir(URL_ALL_DATA + str(year)) is False:\n",
    "                os.mkdir(URL_ALL_DATA + str(year))\n",
    "\n",
    "            with open(path, \"w\") as f:\n",
    "                json.dump(json_dict, f, indent=2)\n",
    "\n",
    "            size = len(json_dict[RESPONSE][DOCS])\n",
    "            print(\n",
    "                f\"[INFO] Se han encontrado {size} archivos el {year}/{month}\")\n",
    "\n",
    "            time.sleep(10)\n",
    "\n",
    "downloadData()"
   ]
  },
  {
   "cell_type": "markdown",
   "metadata": {},
   "source": [
    "*********************************************"
   ]
  },
  {
   "cell_type": "markdown",
   "metadata": {},
   "source": [
    "#### Función para eliminar los campos innecesarios de los json"
   ]
  },
  {
   "cell_type": "code",
   "execution_count": null,
   "metadata": {},
   "outputs": [],
   "source": [
    "def deleteFields():\n",
    "\n",
    "    new_dict = dict()\n",
    "    for year in YEARS:\n",
    "        print(f\"[INFO] Eliminando campos de {year}\")\n",
    "        for month in MONTHS:\n",
    "        \n",
    "            new_dict[DATA] = list()\n",
    "\n",
    "            path = URL_DATA + str(year) + \"/\" + str(month) + \".json\"\n",
    "            path_all_data = URL_ALL_DATA + str(year) + \"/\" + str(month) + \".json\"\n",
    "\n",
    "            if os.path.isdir(URL_DATA + str(year)) is False:\n",
    "                os.mkdir(URL_DATA + str(year))\n",
    "\n",
    "            with open(path_all_data, \"r\") as f:\n",
    "\n",
    "                data = json.load(f)\n",
    "\n",
    "                for article in data[RESPONSE][DOCS]:\n",
    "\n",
    "                    aux = dict()\n",
    "                    aux[ABSTRACT]          = article[ABSTRACT]\n",
    "                    aux[SNIPPET]           = article[SNIPPET]\n",
    "                    aux[LEAD_PARAGRAPH]    = article[LEAD_PARAGRAPH]\n",
    "                    aux[PUB_DATE]          = article[PUB_DATE][:10]\n",
    "\n",
    "                    new_dict[DATA].append(aux)\n",
    "\n",
    "            with open(path, \"w\") as r:\n",
    "                json.dump(new_dict, r, indent=2)\n",
    "\n",
    "# deleteFields()"
   ]
  },
  {
   "cell_type": "markdown",
   "metadata": {},
   "source": [
    "*********************************************"
   ]
  }
 ],
 "metadata": {
  "kernelspec": {
   "display_name": "Python 3",
   "language": "python",
   "name": "python3"
  },
  "language_info": {
   "codemirror_mode": {
    "name": "ipython",
    "version": 3
   },
   "file_extension": ".py",
   "mimetype": "text/x-python",
   "name": "python",
   "nbconvert_exporter": "python",
   "pygments_lexer": "ipython3",
   "version": "3.9.13"
  }
 },
 "nbformat": 4,
 "nbformat_minor": 2
}
