{
 "cells": [
  {
   "cell_type": "markdown",
   "metadata": {},
   "source": [
    "# Formación de sintagmas"
   ]
  },
  {
   "cell_type": "markdown",
   "metadata": {},
   "source": [
    "*********************************************"
   ]
  },
  {
   "cell_type": "markdown",
   "metadata": {},
   "source": [
    "Variables:\n",
    "\n",
    "$w=[w_1, ..., w_n] \\rightarrow$ El sintagma\n",
    "\n",
    "* $e_t \\in \\{0,1\\} \\rightarrow$ Ocurrencia del evento en el momento $t$\n",
    "* $s_t \\in \\{0,1\\} \\rightarrow$ Existencia de la situación en el momento $t$\n",
    "* $s_{t-1} \\rightarrow$ Situación en el momento $t-1$\n",
    "* $w_t^i \\rightarrow$ El evento del sintagma siendo formado en el momento $t$:\n",
    "    * $i=0$: hipótesis de que el sintagma no se ha formado aún\n",
    "    * $i=1$: hipótesis de que el sintagma se ha formado\n",
    "* $\\pi_t \\rightarrow$ Observación\n",
    "\n",
    "\\begin{matrix}\n",
    "    \\pi^1 = \\left\\{\n",
    "        \\begin{matrix} \n",
    "            q([w_1...w_n]\\frac{n(w_1...w_n)}{max(n(w_1), ..., n(w_n))}) & if\\ \\max(n(w_1), ..., n(w_n)) > 0\n",
    "                \\\\\n",
    "            0 & otherwise \n",
    "        \\end{matrix}\\right.\n",
    "    \\\\\n",
    "    \\pi^0=1-\\pi^1\n",
    "\\end{matrix}\n"
   ]
  },
  {
   "cell_type": "markdown",
   "metadata": {},
   "source": [
    "*********************************************"
   ]
  },
  {
   "cell_type": "markdown",
   "metadata": {},
   "source": [
    "* $\\alpha_j^i(t)=P[w_t=i|s_t=j]$\n",
    "\n",
    "* $\\beta_{kh}^j(t)=P[s_t=j|s_{t-1}=k,e_t=h]$\n",
    "\n",
    "* $\\nu^k(t)=P[s_{t-1}=k]$\n",
    "\n",
    "* $\\gamma^h(t)=P[e_t=h]$\n",
    "\n",
    "$i, j, k, h \\in \\{0,1\\}$"
   ]
  },
  {
   "cell_type": "markdown",
   "metadata": {},
   "source": [
    "*********************************************"
   ]
  },
  {
   "cell_type": "markdown",
   "metadata": {},
   "source": [
    "Consideraciones previas:\n",
    "\n",
    "- La situación no se ha dado en $t=0$\n",
    "    - $\\nu^0(t)=1$\n",
    "    - $\\nu^1(t)=0$\n",
    "\n",
    "- $\\psi$: lista que, para cada t, contiene la probabilidad de que el evento que causa el sintagma se genere\n",
    "\n",
    "- $\\alpha, \\beta, \\nu, \\gamma$ son listas de dos posiciones según sus superíndices."
   ]
  },
  {
   "cell_type": "markdown",
   "metadata": {},
   "source": [
    "*********************************************"
   ]
  },
  {
   "cell_type": "code",
   "execution_count": null,
   "metadata": {},
   "outputs": [],
   "source": [
    "import json\n",
    "\n",
    "EXT = \".json\"\n",
    "ALL_MONTHS = [1, 2, 3, 4, 5, 6, 7, 8, 9, 10, 11, 12]\n",
    "LAST_DECADE = [2010, 2011, 2012, 2013, 2014, 2015, 2016, 2017, 2018, 2019, 2020, 2021, 2022]\n",
    "\n",
    "DATA_PATH = \"data/\"\n",
    "\n",
    "RESPONSE = \"response\"\n",
    "DOCS = \"docs\"\n",
    "\n",
    "ABSTRACT = \"abstract\"\n",
    "SNIPPET = \"snippet\"\n",
    "LEAD_PAR = \"lead_paragraph\"\n",
    "PUB_DATE = \"pub_date\""
   ]
  },
  {
   "cell_type": "code",
   "execution_count": null,
   "metadata": {},
   "outputs": [],
   "source": [
    "years = list()\n",
    "months = list()\n",
    "\n",
    "years.extend(LAST_DECADE)\n",
    "months.extend(ALL_MONTHS)\n",
    "\n",
    "query = \" fake news \"\n",
    "\n",
    "for year in years:    \n",
    "    for month in months:\n",
    "        \n",
    "        path = DATA_PATH + str(year) + \"/\" + str(month) + EXT\n",
    "        \n",
    "        with open(path, \"r\") as f:\n",
    "            docs = json.loads(f.read())[RESPONSE][DOCS]\n",
    "            \n",
    "            for doc in docs:\n",
    "                \n",
    "                if query in doc[ABSTRACT] or query in doc[SNIPPET] or query in doc[LEAD_PAR]:\n",
    "                    print(f\"[INFO] Articulo del año {doc[PUB_DATE][:10]}\")\n",
    "                    print(doc[ABSTRACT])\n",
    "                    print(doc[SNIPPET])\n",
    "                    print(doc[LEAD_PAR])\n",
    "                    print()\n",
    "                    print()\n",
    "            \n"
   ]
  },
  {
   "cell_type": "code",
   "execution_count": null,
   "metadata": {},
   "outputs": [],
   "source": [
    "psi = list()\n",
    "\n",
    "alpha = list()\n",
    "beta = list()\n",
    "nu = list()\n",
    "tau = list()\n",
    "\n",
    "time_max = 4\n",
    "\n",
    "for t in range(time_max):\n",
    "    pass\n",
    "    # inicializar alfa\n",
    "    # inicializar beta\n",
    "    # inicializar gamma\n",
    "    # inicializar tau\n",
    "\n",
    "    # inicializar pi"
   ]
  }
 ],
 "metadata": {
  "kernelspec": {
   "display_name": "Python 3",
   "language": "python",
   "name": "python3"
  },
  "language_info": {
   "codemirror_mode": {
    "name": "ipython",
    "version": 3
   },
   "file_extension": ".py",
   "mimetype": "text/x-python",
   "name": "python",
   "nbconvert_exporter": "python",
   "pygments_lexer": "ipython3",
   "version": "3.9.13"
  }
 },
 "nbformat": 4,
 "nbformat_minor": 2
}
